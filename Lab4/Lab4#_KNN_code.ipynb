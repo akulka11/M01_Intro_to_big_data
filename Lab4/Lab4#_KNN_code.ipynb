{
 "cells": [
  {
   "cell_type": "code",
   "execution_count": 1,
   "id": "c7aa28b2",
   "metadata": {},
   "outputs": [
    {
     "name": "stderr",
     "output_type": "stream",
     "text": [
      "Setting default log level to \"WARN\".\n",
      "To adjust logging level use sc.setLogLevel(newLevel). For SparkR, use setLogLevel(newLevel).\n",
      "23/11/09 13:12:43 WARN NativeCodeLoader: Unable to load native-hadoop library for your platform... using builtin-java classes where applicable\n"
     ]
    },
    {
     "data": {
      "image/png": "[encoded data removed]",
      "text/plain": [
       "<Figure size 432x288 with 1 Axes>"
      ]
     },
     "metadata": {
      "needs_background": "light"
     },
     "output_type": "display_data"
    },
    {
     "name": "stdout",
     "output_type": "stream",
     "text": [
      "Best K value: 18\n",
      "Confusion Matrix:\n",
      "[[96  9]\n",
      " [33 41]]\n"
     ]
    }
   ],
   "source": [
    "# Import necessary libraries\n",
    "import numpy as np\n",
    "import pandas as pd\n",
    "import matplotlib.pyplot as plt\n",
    "from sklearn.model_selection import train_test_split, cross_val_score\n",
    "from sklearn.neighbors import KNeighborsClassifier\n",
    "from sklearn.metrics import confusion_matrix\n",
    "from pyspark.sql import SparkSession\n",
    "from pyspark.ml.feature import VectorAssembler\n",
    "from pyspark.ml.evaluation import MulticlassClassificationEvaluator\n",
    "from pyspark.sql.types import StructType, StructField, DoubleType\n",
    "\n",
    "# Initializing Spark session\n",
    "spark = SparkSession.builder.appName(\"TitanicKNN\").getOrCreate()\n",
    "\n",
    "# Loading the dataset\n",
    "train_df = spark.read.csv(\"/Users/adityakulkarni/Downloads/titanic/train.csv\", header=True, inferSchema=True)\n",
    "test_df = spark.read.csv(\"/Users/adityakulkarni/Downloads/titanic/test.csv\", header=True, inferSchema=True)\n",
    "\n",
    "\n",
    "# Feature selection\n",
    "selected_features = [\"Pclass\", \"Age\", \"Fare\"]\n",
    "X = train_df.select(*selected_features)\n",
    "y = train_df.select(\"Survived\")\n",
    "\n",
    "# Handling missing values and convert to Pandas\n",
    "X = X.fillna(0) \n",
    "X_pd = X.toPandas()\n",
    "\n",
    "#Standard Scaler\n",
    "def custom_standard_scaler(data):\n",
    "    mean = np.mean(data, axis=0)\n",
    "    std = np.std(data, axis=0)\n",
    "    scaled_data = (data - mean) / std\n",
    "    return scaled_data\n",
    "\n",
    "# Converting Pandas DataFrame to a numpy array\n",
    "X_pd_scaled = custom_standard_scaler(X_pd)\n",
    "y_np = np.array(y.select(\"Survived\").collect()).ravel()\n",
    "X_np = np.array(X_pd_scaled)\n",
    "\n",
    "# Spliting the data into training and testing sets\n",
    "X_train, X_test, y_train, y_test = train_test_split(X_np, y_np, test_size=0.2, random_state=42)\n",
    "\n",
    "# Determine the K value and create a visualization of accuracy\n",
    "k_values = list(range(1, 21))\n",
    "accuracies = []\n",
    "\n",
    "for k in k_values:\n",
    "    knn = KNeighborsClassifier(n_neighbors=k)\n",
    "    knn.fit(X_train, y_train)\n",
    "    accuracy = knn.score(X_test, y_test)\n",
    "    accuracies.append(accuracy)\n",
    "\n",
    "# Ploting the K values against accuracy\n",
    "plt.plot(k_values, accuracies)\n",
    "plt.xlabel('K')\n",
    "plt.ylabel('Accuracy')\n",
    "plt.title('K vs Accuracy')\n",
    "plt.show()\n",
    "\n",
    "# Selecting the best K value\n",
    "best_k = k_values[np.argmax(accuracies)]\n",
    "\n",
    "# Training the final model with the best K value\n",
    "final_knn = KNeighborsClassifier(n_neighbors=best_k)\n",
    "final_knn.fit(X_train, y_train)\n",
    "\n",
    "# Evaluating using confusion matrix\n",
    "y_pred = final_knn.predict(X_test)\n",
    "conf_matrix = confusion_matrix(y_test, y_pred)\n",
    "\n",
    "# Model explanation\n",
    "print(f\"Best K value: {best_k}\")\n",
    "print(\"Confusion Matrix:\")\n",
    "print(conf_matrix)\n"
   ]
  },
  {
   "cell_type": "markdown",
   "id": "26435266",
   "metadata": {},
   "source": [
    "## Confusion matrix \n",
    "\n",
    "1. True Positives (TP): 41 passengers survived and were correctly classified as survivors.\n",
    "2. True Negatives (TN): 96 passengers did not survive and were correctly classified as non-survivors.\n",
    "3. False Positives (FP): 9 passengers who did not survive were incorrectly classified as survivors.\n",
    "4. False Negatives (FN): 33 passengers who survived were incorrectly classified as non-survivors.\n",
    "\n",
    "\n",
    "Accuracy = (41 + 96) / (41 + 96 + 9 + 33) = 137 / 179 ≈ 0.7648\n",
    "\n",
    "So, the accuracy of the model is approximately 0.7648, which is equivalent to 76.48%.\n",
    "\n",
    "This means that the K-Nearest Neighbors (KNN) model correctly predicted the survival or non-survival of passengers in the Titanic dataset approximately 76.48% of the time"
   ]
  }
 ],
 "metadata": {
  "kernelspec": {
   "display_name": "Python 3 (ipykernel)",
   "language": "python",
   "name": "python3"
  },
  "language_info": {
   "codemirror_mode": {
    "name": "ipython",
    "version": 3
   },
   "file_extension": ".py",
   "mimetype": "text/x-python",
   "name": "python",
   "nbconvert_exporter": "python",
   "pygments_lexer": "ipython3",
   "version": "3.9.12"
  }
 },
 "nbformat": 4,
 "nbformat_minor": 5
}
